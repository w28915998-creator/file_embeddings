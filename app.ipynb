{
 "cells": [
  {
   "cell_type": "code",
   "execution_count": 3,
   "id": "a066ba3c-f555-4b99-ba16-d65a951403c9",
   "metadata": {},
   "outputs": [
    {
     "ename": "ModuleNotFoundError",
     "evalue": "No module named 'utils'",
     "output_type": "error",
     "traceback": [
      "\u001b[1;31m---------------------------------------------------------------------------\u001b[0m",
      "\u001b[1;31mModuleNotFoundError\u001b[0m                       Traceback (most recent call last)",
      "Cell \u001b[1;32mIn[3], line 3\u001b[0m\n\u001b[0;32m      1\u001b[0m \u001b[38;5;28;01mimport\u001b[39;00m\u001b[38;5;250m \u001b[39m\u001b[38;5;21;01mos\u001b[39;00m\n\u001b[0;32m      2\u001b[0m \u001b[38;5;28;01mfrom\u001b[39;00m\u001b[38;5;250m \u001b[39m\u001b[38;5;21;01mflask\u001b[39;00m\u001b[38;5;250m \u001b[39m\u001b[38;5;28;01mimport\u001b[39;00m Flask, render_template, request, jsonify\n\u001b[1;32m----> 3\u001b[0m \u001b[38;5;28;01mfrom\u001b[39;00m\u001b[38;5;250m \u001b[39m\u001b[38;5;21;01mutils\u001b[39;00m\u001b[38;5;250m \u001b[39m\u001b[38;5;28;01mimport\u001b[39;00m process_speaker, get_speakers_list\n",
      "\u001b[1;31mModuleNotFoundError\u001b[0m: No module named 'utils'"
     ]
    }
   ],
   "source": [
    "import os\n",
    "from flask import Flask, render_template, request, jsonify\n",
    "from utils import process_speaker, get_speakers_list"
   ]
  },
  {
   "cell_type": "code",
   "execution_count": null,
   "id": "d4f5bb6a-b1ea-4fa2-b748-ba3e621a74f8",
   "metadata": {},
   "outputs": [],
   "source": [
    "\n",
    "\n",
    "app = Flask(__name__)\n",
    "app.config['UPLOAD_FOLDER'] = 'uploads'\n",
    "app.config['MAX_CONTENT_LENGTH'] = 16 * 1024 * 1024  # 16MB limit\n",
    "\n",
    "# Ensure upload directory exists\n",
    "os.makedirs(app.config['UPLOAD_FOLDER'], exist_ok=True)\n",
    "\n",
    "@app.route('/')\n",
    "def index():\n",
    "    speakers = get_speakers_list()\n",
    "    return render_template('index.html', speakers=speakers)\n",
    "\n",
    "@app.route('/upload', methods=['POST'])\n",
    "def upload_file():\n",
    "    if 'file' not in request.files:\n",
    "        return jsonify({\"error\": \"No file part\", \"success\": False})\n",
    "    \n",
    "    file = request.files['file']\n",
    "    if file.filename == '':\n",
    "        return jsonify({\"error\": \"No selected file\", \"success\": False})\n",
    "    \n",
    "    if file:\n",
    "        # Save the file\n",
    "        filename = os.path.join(app.config['UPLOAD_FOLDER'], file.filename)\n",
    "        file.save(filename)\n",
    "        \n",
    "        # Get mode from form\n",
    "        mode = request.form.get('mode', 'check')\n",
    "        \n",
    "        # Process the file using utils\n",
    "        try:\n",
    "            result = process_speaker(filename, mode)\n",
    "            result[\"success\"] = True\n",
    "            return jsonify(result)\n",
    "        except Exception as e:\n",
    "            return jsonify({\"error\": str(e), \"success\": False})\n",
    "        finally:\n",
    "            # Clean up uploaded file\n",
    "            if os.path.exists(filename):\n",
    "                os.remove(filename)\n",
    "\n",
    "if __name__ == '__main__':\n",
    "    app.run(debug=True)"
   ]
  }
 ],
 "metadata": {
  "kernelspec": {
   "display_name": "Python (file_embeddings)",
   "language": "python",
   "name": "file_embeddings"
  },
  "language_info": {
   "codemirror_mode": {
    "name": "ipython",
    "version": 3
   },
   "file_extension": ".py",
   "mimetype": "text/x-python",
   "name": "python",
   "nbconvert_exporter": "python",
   "pygments_lexer": "ipython3",
   "version": "3.10.10"
  }
 },
 "nbformat": 4,
 "nbformat_minor": 5
}
